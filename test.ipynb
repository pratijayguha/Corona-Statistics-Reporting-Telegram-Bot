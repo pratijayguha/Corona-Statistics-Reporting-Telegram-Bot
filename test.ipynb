{
 "cells": [
  {
   "cell_type": "code",
   "execution_count": 7,
   "metadata": {},
   "outputs": [],
   "source": [
    "from bs4 import BeautifulSoup\n",
    "import requests\n",
    "import json"
   ]
  },
  {
   "cell_type": "code",
   "execution_count": 8,
   "metadata": {},
   "outputs": [],
   "source": [
    "URL = 'https://api.covid19api.com/summary'"
   ]
  },
  {
   "cell_type": "code",
   "execution_count": 44,
   "metadata": {},
   "outputs": [],
   "source": [
    "class country_details():\n",
    "    def __init__(self,new_cases,tot_cases,new_rec):\n",
    "        self.new_cases = new_cases\n",
    "        self.tot_cases = tot_cases\n",
    "        self.new_rec = new_rec\n",
    "        self.message = message = \"***INDIA***\"\"\\nTotal cases till date: \"+str(self.tot_cases)\\\n",
    "        +\"\\nNew cases yesterday: \"+str(self.new_cases)+\"\\nNew recoveries yesterday: \"+str(self.new_rec)\n",
    "        "
   ]
  },
  {
   "cell_type": "code",
   "execution_count": 45,
   "metadata": {},
   "outputs": [],
   "source": [
    "result = requests.get(URL)\n",
    "soup = BeautifulSoup(result.content, 'html.parser')\n",
    "# text = str(soup.title)\n",
    "data = json.loads(str(soup))\n"
   ]
  },
  {
   "cell_type": "code",
   "execution_count": 57,
   "metadata": {},
   "outputs": [
    {
     "data": {
      "text/plain": [
       "{'Country': 'India',\n",
       " 'CountryCode': 'IN',\n",
       " 'Slug': 'india',\n",
       " 'NewConfirmed': 22169,\n",
       " 'TotalConfirmed': 343091,\n",
       " 'NewDeaths': 705,\n",
       " 'TotalDeaths': 9900,\n",
       " 'NewRecovered': 17634,\n",
       " 'TotalRecovered': 180013,\n",
       " 'Date': '2020-06-17T04:42:04Z'}"
      ]
     },
     "execution_count": 57,
     "metadata": {},
     "output_type": "execute_result"
    }
   ],
   "source": [
    "data[\"Countries\"][76]"
   ]
  },
  {
   "cell_type": "code",
   "execution_count": 46,
   "metadata": {},
   "outputs": [],
   "source": [
    "for country in data[\"Countries\"]:\n",
    "    if country[\"Country\"]=='India':\n",
    "        india = country_details(new_cases=country[\"NewConfirmed\"],\n",
    "                                tot_cases=country[\"TotalConfirmed\"],\n",
    "                                new_rec=country[\"NewRecovered\"])\n",
    "        "
   ]
  },
  {
   "cell_type": "code",
   "execution_count": 47,
   "metadata": {},
   "outputs": [
    {
     "name": "stdout",
     "output_type": "stream",
     "text": [
      "***INDIA***\n",
      "Total cases till date: 343091\n",
      "New cases yesterday: 22169\n",
      "New recoveries yesterday: 17634\n"
     ]
    }
   ],
   "source": [
    "print(india.message)"
   ]
  },
  {
   "cell_type": "code",
   "execution_count": null,
   "metadata": {},
   "outputs": [],
   "source": []
  }
 ],
 "metadata": {
  "kernelspec": {
   "display_name": "Python 3",
   "language": "python",
   "name": "python3"
  },
  "language_info": {
   "codemirror_mode": {
    "name": "ipython",
    "version": 3
   },
   "file_extension": ".py",
   "mimetype": "text/x-python",
   "name": "python",
   "nbconvert_exporter": "python",
   "pygments_lexer": "ipython3",
   "version": "3.8.2"
  }
 },
 "nbformat": 4,
 "nbformat_minor": 4
}
